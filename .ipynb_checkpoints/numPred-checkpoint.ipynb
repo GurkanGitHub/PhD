{
 "cells": [
  {
   "cell_type": "code",
   "execution_count": 152,
   "metadata": {},
   "outputs": [],
   "source": [
    "import pandas as pd"
   ]
  },
  {
   "cell_type": "code",
   "execution_count": 180,
   "metadata": {},
   "outputs": [],
   "source": [
    "df = pd.read_excel(\"D:/github/PhD/NumsWars.xlsx\", sheet_name=\"Figure 1-7\")"
   ]
  },
  {
   "cell_type": "code",
   "execution_count": 181,
   "metadata": {},
   "outputs": [
    {
     "data": {
      "text/html": [
       "<div>\n",
       "<style scoped>\n",
       "    .dataframe tbody tr th:only-of-type {\n",
       "        vertical-align: middle;\n",
       "    }\n",
       "\n",
       "    .dataframe tbody tr th {\n",
       "        vertical-align: top;\n",
       "    }\n",
       "\n",
       "    .dataframe thead th {\n",
       "        text-align: right;\n",
       "    }\n",
       "</style>\n",
       "<table border=\"1\" class=\"dataframe\">\n",
       "  <thead>\n",
       "    <tr style=\"text-align: right;\">\n",
       "      <th></th>\n",
       "      <th>Selected Battle Statistics, 1805-1973</th>\n",
       "      <th>Unnamed: 1</th>\n",
       "      <th>Unnamed: 2</th>\n",
       "      <th>Unnamed: 3</th>\n",
       "      <th>Unnamed: 4</th>\n",
       "      <th>Unnamed: 5</th>\n",
       "      <th>Unnamed: 6</th>\n",
       "      <th>Unnamed: 7</th>\n",
       "    </tr>\n",
       "  </thead>\n",
       "  <tbody>\n",
       "    <tr>\n",
       "      <th>0</th>\n",
       "      <td>Battle</td>\n",
       "      <td>Date</td>\n",
       "      <td>Attacker*</td>\n",
       "      <td>Strength</td>\n",
       "      <td>Defender*</td>\n",
       "      <td>Strength</td>\n",
       "      <td>A/D</td>\n",
       "      <td>V/L</td>\n",
       "    </tr>\n",
       "    <tr>\n",
       "      <th>1</th>\n",
       "      <td>Austerlitz</td>\n",
       "      <td>1805</td>\n",
       "      <td>FRENCH</td>\n",
       "      <td>75000</td>\n",
       "      <td>Allies</td>\n",
       "      <td>89000</td>\n",
       "      <td>0.84</td>\n",
       "      <td>0.84</td>\n",
       "    </tr>\n",
       "    <tr>\n",
       "      <th>2</th>\n",
       "      <td>Auerstadt</td>\n",
       "      <td>1806</td>\n",
       "      <td>Prussians</td>\n",
       "      <td>50000</td>\n",
       "      <td>FRENCH</td>\n",
       "      <td>30000</td>\n",
       "      <td>1.67</td>\n",
       "      <td>0.6</td>\n",
       "    </tr>\n",
       "    <tr>\n",
       "      <th>3</th>\n",
       "      <td>Borodino</td>\n",
       "      <td>1812</td>\n",
       "      <td>FRENCH</td>\n",
       "      <td>130000</td>\n",
       "      <td>Russians</td>\n",
       "      <td>120000</td>\n",
       "      <td>1.08</td>\n",
       "      <td>1.08</td>\n",
       "    </tr>\n",
       "    <tr>\n",
       "      <th>4</th>\n",
       "      <td>Dresden</td>\n",
       "      <td>1813</td>\n",
       "      <td>FRENCH</td>\n",
       "      <td>100000</td>\n",
       "      <td>Allies</td>\n",
       "      <td>150000</td>\n",
       "      <td>0.67</td>\n",
       "      <td>0.67</td>\n",
       "    </tr>\n",
       "  </tbody>\n",
       "</table>\n",
       "</div>"
      ],
      "text/plain": [
       "  Selected Battle Statistics, 1805-1973 Unnamed: 1 Unnamed: 2 Unnamed: 3  \\\n",
       "0                                Battle       Date  Attacker*   Strength   \n",
       "1                            Austerlitz       1805     FRENCH      75000   \n",
       "2                             Auerstadt       1806  Prussians      50000   \n",
       "3                              Borodino       1812     FRENCH     130000   \n",
       "4                               Dresden       1813     FRENCH     100000   \n",
       "\n",
       "  Unnamed: 4 Unnamed: 5 Unnamed: 6 Unnamed: 7  \n",
       "0  Defender*   Strength        A/D        V/L  \n",
       "1     Allies      89000       0.84       0.84  \n",
       "2     FRENCH      30000       1.67        0.6  \n",
       "3   Russians     120000       1.08       1.08  \n",
       "4     Allies     150000       0.67       0.67  "
      ]
     },
     "execution_count": 181,
     "metadata": {},
     "output_type": "execute_result"
    }
   ],
   "source": [
    "df.head()"
   ]
  },
  {
   "cell_type": "code",
   "execution_count": 182,
   "metadata": {},
   "outputs": [
    {
     "data": {
      "text/plain": [
       "Index(['Selected Battle Statistics, 1805-1973', 'Unnamed: 1', 'Unnamed: 2',\n",
       "       'Unnamed: 3', 'Unnamed: 4', 'Unnamed: 5', 'Unnamed: 6', 'Unnamed: 7'],\n",
       "      dtype='object')"
      ]
     },
     "execution_count": 182,
     "metadata": {},
     "output_type": "execute_result"
    }
   ],
   "source": [
    "df.columns"
   ]
  },
  {
   "cell_type": "code",
   "execution_count": 183,
   "metadata": {},
   "outputs": [
    {
     "data": {
      "text/plain": [
       "['Battle', 'Date', 'Attacker*', 'Strength', 'Defender*', 'Strength', 'A/D']"
      ]
     },
     "execution_count": 183,
     "metadata": {},
     "output_type": "execute_result"
    }
   ],
   "source": [
    "df.loc[0, :][0:7].to_list()"
   ]
  },
  {
   "cell_type": "code",
   "execution_count": 184,
   "metadata": {},
   "outputs": [
    {
     "data": {
      "text/html": [
       "<div>\n",
       "<style scoped>\n",
       "    .dataframe tbody tr th:only-of-type {\n",
       "        vertical-align: middle;\n",
       "    }\n",
       "\n",
       "    .dataframe tbody tr th {\n",
       "        vertical-align: top;\n",
       "    }\n",
       "\n",
       "    .dataframe thead th {\n",
       "        text-align: right;\n",
       "    }\n",
       "</style>\n",
       "<table border=\"1\" class=\"dataframe\">\n",
       "  <thead>\n",
       "    <tr style=\"text-align: right;\">\n",
       "      <th></th>\n",
       "      <th>Battle</th>\n",
       "      <th>Date</th>\n",
       "      <th>Attacker*</th>\n",
       "      <th>Strength</th>\n",
       "      <th>Defender*</th>\n",
       "      <th>Strength</th>\n",
       "      <th>A/D</th>\n",
       "      <th>V/L</th>\n",
       "    </tr>\n",
       "  </thead>\n",
       "  <tbody>\n",
       "    <tr>\n",
       "      <th>0</th>\n",
       "      <td>Battle</td>\n",
       "      <td>Date</td>\n",
       "      <td>Attacker*</td>\n",
       "      <td>Strength</td>\n",
       "      <td>Defender*</td>\n",
       "      <td>Strength</td>\n",
       "      <td>A/D</td>\n",
       "      <td>V/L</td>\n",
       "    </tr>\n",
       "    <tr>\n",
       "      <th>1</th>\n",
       "      <td>Austerlitz</td>\n",
       "      <td>1805</td>\n",
       "      <td>FRENCH</td>\n",
       "      <td>75000</td>\n",
       "      <td>Allies</td>\n",
       "      <td>89000</td>\n",
       "      <td>0.84</td>\n",
       "      <td>0.84</td>\n",
       "    </tr>\n",
       "    <tr>\n",
       "      <th>2</th>\n",
       "      <td>Auerstadt</td>\n",
       "      <td>1806</td>\n",
       "      <td>Prussians</td>\n",
       "      <td>50000</td>\n",
       "      <td>FRENCH</td>\n",
       "      <td>30000</td>\n",
       "      <td>1.67</td>\n",
       "      <td>0.6</td>\n",
       "    </tr>\n",
       "    <tr>\n",
       "      <th>3</th>\n",
       "      <td>Borodino</td>\n",
       "      <td>1812</td>\n",
       "      <td>FRENCH</td>\n",
       "      <td>130000</td>\n",
       "      <td>Russians</td>\n",
       "      <td>120000</td>\n",
       "      <td>1.08</td>\n",
       "      <td>1.08</td>\n",
       "    </tr>\n",
       "    <tr>\n",
       "      <th>4</th>\n",
       "      <td>Dresden</td>\n",
       "      <td>1813</td>\n",
       "      <td>FRENCH</td>\n",
       "      <td>100000</td>\n",
       "      <td>Allies</td>\n",
       "      <td>150000</td>\n",
       "      <td>0.67</td>\n",
       "      <td>0.67</td>\n",
       "    </tr>\n",
       "  </tbody>\n",
       "</table>\n",
       "</div>"
      ],
      "text/plain": [
       "       Battle  Date  Attacker*  Strength  Defender*  Strength   A/D   V/L\n",
       "0      Battle  Date  Attacker*  Strength  Defender*  Strength   A/D   V/L\n",
       "1  Austerlitz  1805     FRENCH     75000     Allies     89000  0.84  0.84\n",
       "2   Auerstadt  1806  Prussians     50000     FRENCH     30000  1.67   0.6\n",
       "3    Borodino  1812     FRENCH    130000   Russians    120000  1.08  1.08\n",
       "4     Dresden  1813     FRENCH    100000     Allies    150000  0.67  0.67"
      ]
     },
     "execution_count": 184,
     "metadata": {},
     "output_type": "execute_result"
    }
   ],
   "source": [
    "df.rename(columns=df.loc[0, :][0:8], inplace=True)\n",
    "df.head()"
   ]
  },
  {
   "cell_type": "code",
   "execution_count": 185,
   "metadata": {},
   "outputs": [
    {
     "data": {
      "text/plain": [
       "Index(['Battle', 'Date', 'Attacker*', 'Strength', 'Defender*', 'Strength',\n",
       "       'A/D', 'V/L'],\n",
       "      dtype='object')"
      ]
     },
     "execution_count": 185,
     "metadata": {},
     "output_type": "execute_result"
    }
   ],
   "source": [
    "df.columns"
   ]
  },
  {
   "cell_type": "code",
   "execution_count": 186,
   "metadata": {},
   "outputs": [],
   "source": [
    "df.columns= ['Battle', 'Date', 'Attacker*', 'Strength_Att', 'Defender*', 'Strength_Def',\n",
    "       'A/D', 'V/L']"
   ]
  },
  {
   "cell_type": "code",
   "execution_count": 187,
   "metadata": {},
   "outputs": [
    {
     "data": {
      "text/html": [
       "<div>\n",
       "<style scoped>\n",
       "    .dataframe tbody tr th:only-of-type {\n",
       "        vertical-align: middle;\n",
       "    }\n",
       "\n",
       "    .dataframe tbody tr th {\n",
       "        vertical-align: top;\n",
       "    }\n",
       "\n",
       "    .dataframe thead th {\n",
       "        text-align: right;\n",
       "    }\n",
       "</style>\n",
       "<table border=\"1\" class=\"dataframe\">\n",
       "  <thead>\n",
       "    <tr style=\"text-align: right;\">\n",
       "      <th></th>\n",
       "      <th>Battle</th>\n",
       "      <th>Date</th>\n",
       "      <th>Attacker*</th>\n",
       "      <th>Strength_Att</th>\n",
       "      <th>Defender*</th>\n",
       "      <th>Strength_Def</th>\n",
       "      <th>A/D</th>\n",
       "      <th>V/L</th>\n",
       "    </tr>\n",
       "  </thead>\n",
       "  <tbody>\n",
       "    <tr>\n",
       "      <th>0</th>\n",
       "      <td>Battle</td>\n",
       "      <td>Date</td>\n",
       "      <td>Attacker*</td>\n",
       "      <td>Strength</td>\n",
       "      <td>Defender*</td>\n",
       "      <td>Strength</td>\n",
       "      <td>A/D</td>\n",
       "      <td>V/L</td>\n",
       "    </tr>\n",
       "    <tr>\n",
       "      <th>1</th>\n",
       "      <td>Austerlitz</td>\n",
       "      <td>1805</td>\n",
       "      <td>FRENCH</td>\n",
       "      <td>75000</td>\n",
       "      <td>Allies</td>\n",
       "      <td>89000</td>\n",
       "      <td>0.84</td>\n",
       "      <td>0.84</td>\n",
       "    </tr>\n",
       "    <tr>\n",
       "      <th>2</th>\n",
       "      <td>Auerstadt</td>\n",
       "      <td>1806</td>\n",
       "      <td>Prussians</td>\n",
       "      <td>50000</td>\n",
       "      <td>FRENCH</td>\n",
       "      <td>30000</td>\n",
       "      <td>1.67</td>\n",
       "      <td>0.6</td>\n",
       "    </tr>\n",
       "    <tr>\n",
       "      <th>3</th>\n",
       "      <td>Borodino</td>\n",
       "      <td>1812</td>\n",
       "      <td>FRENCH</td>\n",
       "      <td>130000</td>\n",
       "      <td>Russians</td>\n",
       "      <td>120000</td>\n",
       "      <td>1.08</td>\n",
       "      <td>1.08</td>\n",
       "    </tr>\n",
       "    <tr>\n",
       "      <th>4</th>\n",
       "      <td>Dresden</td>\n",
       "      <td>1813</td>\n",
       "      <td>FRENCH</td>\n",
       "      <td>100000</td>\n",
       "      <td>Allies</td>\n",
       "      <td>150000</td>\n",
       "      <td>0.67</td>\n",
       "      <td>0.67</td>\n",
       "    </tr>\n",
       "  </tbody>\n",
       "</table>\n",
       "</div>"
      ],
      "text/plain": [
       "       Battle  Date  Attacker* Strength_Att  Defender* Strength_Def   A/D  \\\n",
       "0      Battle  Date  Attacker*     Strength  Defender*     Strength   A/D   \n",
       "1  Austerlitz  1805     FRENCH        75000     Allies        89000  0.84   \n",
       "2   Auerstadt  1806  Prussians        50000     FRENCH        30000  1.67   \n",
       "3    Borodino  1812     FRENCH       130000   Russians       120000  1.08   \n",
       "4     Dresden  1813     FRENCH       100000     Allies       150000  0.67   \n",
       "\n",
       "    V/L  \n",
       "0   V/L  \n",
       "1  0.84  \n",
       "2   0.6  \n",
       "3  1.08  \n",
       "4  0.67  "
      ]
     },
     "execution_count": 187,
     "metadata": {},
     "output_type": "execute_result"
    }
   ],
   "source": [
    "df.head()"
   ]
  },
  {
   "cell_type": "code",
   "execution_count": 188,
   "metadata": {},
   "outputs": [
    {
     "data": {
      "text/html": [
       "<div>\n",
       "<style scoped>\n",
       "    .dataframe tbody tr th:only-of-type {\n",
       "        vertical-align: middle;\n",
       "    }\n",
       "\n",
       "    .dataframe tbody tr th {\n",
       "        vertical-align: top;\n",
       "    }\n",
       "\n",
       "    .dataframe thead th {\n",
       "        text-align: right;\n",
       "    }\n",
       "</style>\n",
       "<table border=\"1\" class=\"dataframe\">\n",
       "  <thead>\n",
       "    <tr style=\"text-align: right;\">\n",
       "      <th></th>\n",
       "      <th>Battle</th>\n",
       "      <th>Date</th>\n",
       "      <th>Attacker*</th>\n",
       "      <th>Strength_Att</th>\n",
       "      <th>Defender*</th>\n",
       "      <th>Strength_Def</th>\n",
       "      <th>A/D</th>\n",
       "      <th>V/L</th>\n",
       "    </tr>\n",
       "  </thead>\n",
       "  <tbody>\n",
       "    <tr>\n",
       "      <th>1</th>\n",
       "      <td>Austerlitz</td>\n",
       "      <td>1805</td>\n",
       "      <td>FRENCH</td>\n",
       "      <td>75000</td>\n",
       "      <td>Allies</td>\n",
       "      <td>89000</td>\n",
       "      <td>0.84</td>\n",
       "      <td>0.84</td>\n",
       "    </tr>\n",
       "    <tr>\n",
       "      <th>2</th>\n",
       "      <td>Auerstadt</td>\n",
       "      <td>1806</td>\n",
       "      <td>Prussians</td>\n",
       "      <td>50000</td>\n",
       "      <td>FRENCH</td>\n",
       "      <td>30000</td>\n",
       "      <td>1.67</td>\n",
       "      <td>0.6</td>\n",
       "    </tr>\n",
       "    <tr>\n",
       "      <th>3</th>\n",
       "      <td>Borodino</td>\n",
       "      <td>1812</td>\n",
       "      <td>FRENCH</td>\n",
       "      <td>130000</td>\n",
       "      <td>Russians</td>\n",
       "      <td>120000</td>\n",
       "      <td>1.08</td>\n",
       "      <td>1.08</td>\n",
       "    </tr>\n",
       "    <tr>\n",
       "      <th>4</th>\n",
       "      <td>Dresden</td>\n",
       "      <td>1813</td>\n",
       "      <td>FRENCH</td>\n",
       "      <td>100000</td>\n",
       "      <td>Allies</td>\n",
       "      <td>150000</td>\n",
       "      <td>0.67</td>\n",
       "      <td>0.67</td>\n",
       "    </tr>\n",
       "    <tr>\n",
       "      <th>5</th>\n",
       "      <td>Leipzig</td>\n",
       "      <td>1813</td>\n",
       "      <td>ALLIES</td>\n",
       "      <td>300000</td>\n",
       "      <td>French</td>\n",
       "      <td>180000</td>\n",
       "      <td>1.67</td>\n",
       "      <td>1.67</td>\n",
       "    </tr>\n",
       "  </tbody>\n",
       "</table>\n",
       "</div>"
      ],
      "text/plain": [
       "       Battle  Date  Attacker* Strength_Att Defender* Strength_Def   A/D   V/L\n",
       "1  Austerlitz  1805     FRENCH        75000    Allies        89000  0.84  0.84\n",
       "2   Auerstadt  1806  Prussians        50000    FRENCH        30000  1.67   0.6\n",
       "3    Borodino  1812     FRENCH       130000  Russians       120000  1.08  1.08\n",
       "4     Dresden  1813     FRENCH       100000    Allies       150000  0.67  0.67\n",
       "5     Leipzig  1813     ALLIES       300000    French       180000  1.67  1.67"
      ]
     },
     "execution_count": 188,
     "metadata": {},
     "output_type": "execute_result"
    }
   ],
   "source": [
    "df.drop(axis=0, index=0, inplace=True)\n",
    "df.head()"
   ]
  },
  {
   "cell_type": "code",
   "execution_count": 197,
   "metadata": {},
   "outputs": [
    {
     "data": {
      "text/plain": [
       "42"
      ]
     },
     "execution_count": 197,
     "metadata": {},
     "output_type": "execute_result"
    }
   ],
   "source": [
    "len(df.index)"
   ]
  },
  {
   "cell_type": "code",
   "execution_count": 189,
   "metadata": {},
   "outputs": [],
   "source": [
    "df = df.dropna()"
   ]
  },
  {
   "cell_type": "code",
   "execution_count": 190,
   "metadata": {},
   "outputs": [
    {
     "data": {
      "text/plain": [
       "Battle          object\n",
       "Date            object\n",
       "Attacker*       object\n",
       "Strength_Att    object\n",
       "Defender*       object\n",
       "Strength_Def    object\n",
       "A/D             object\n",
       "V/L             object\n",
       "dtype: object"
      ]
     },
     "execution_count": 190,
     "metadata": {},
     "output_type": "execute_result"
    }
   ],
   "source": [
    "df.dtypes"
   ]
  },
  {
   "cell_type": "code",
   "execution_count": 191,
   "metadata": {},
   "outputs": [],
   "source": [
    "import numpy as np\n",
    "df[[\"Strength_Att\", \"Strength_Def\"]] = df[[\"Strength_Att\", \"Strength_Def\"]].astype(np.float).astype(\"Int64\")"
   ]
  },
  {
   "cell_type": "code",
   "execution_count": 192,
   "metadata": {},
   "outputs": [
    {
     "data": {
      "text/plain": [
       "Battle          object\n",
       "Date            object\n",
       "Attacker*       object\n",
       "Strength_Att     Int64\n",
       "Defender*       object\n",
       "Strength_Def     Int64\n",
       "A/D             object\n",
       "V/L             object\n",
       "dtype: object"
      ]
     },
     "execution_count": 192,
     "metadata": {},
     "output_type": "execute_result"
    }
   ],
   "source": [
    "df.dtypes"
   ]
  },
  {
   "cell_type": "code",
   "execution_count": 193,
   "metadata": {},
   "outputs": [],
   "source": [
    "df[\"Att_to_Def\"] = round(df[\"Strength_Att\"]/ df[\"Strength_Def\"], 2)"
   ]
  },
  {
   "cell_type": "code",
   "execution_count": 195,
   "metadata": {},
   "outputs": [
    {
     "data": {
      "text/html": [
       "<div>\n",
       "<style scoped>\n",
       "    .dataframe tbody tr th:only-of-type {\n",
       "        vertical-align: middle;\n",
       "    }\n",
       "\n",
       "    .dataframe tbody tr th {\n",
       "        vertical-align: top;\n",
       "    }\n",
       "\n",
       "    .dataframe thead th {\n",
       "        text-align: right;\n",
       "    }\n",
       "</style>\n",
       "<table border=\"1\" class=\"dataframe\">\n",
       "  <thead>\n",
       "    <tr style=\"text-align: right;\">\n",
       "      <th></th>\n",
       "      <th>Battle</th>\n",
       "      <th>Date</th>\n",
       "      <th>Attacker*</th>\n",
       "      <th>Strength_Att</th>\n",
       "      <th>Defender*</th>\n",
       "      <th>Strength_Def</th>\n",
       "      <th>A/D</th>\n",
       "      <th>V/L</th>\n",
       "      <th>Att_to_Def</th>\n",
       "    </tr>\n",
       "  </thead>\n",
       "  <tbody>\n",
       "    <tr>\n",
       "      <th>1</th>\n",
       "      <td>Austerlitz</td>\n",
       "      <td>1805</td>\n",
       "      <td>FRENCH</td>\n",
       "      <td>75000</td>\n",
       "      <td>Allies</td>\n",
       "      <td>89000</td>\n",
       "      <td>0.84</td>\n",
       "      <td>0.84</td>\n",
       "      <td>0.84</td>\n",
       "    </tr>\n",
       "    <tr>\n",
       "      <th>2</th>\n",
       "      <td>Auerstadt</td>\n",
       "      <td>1806</td>\n",
       "      <td>Prussians</td>\n",
       "      <td>50000</td>\n",
       "      <td>FRENCH</td>\n",
       "      <td>30000</td>\n",
       "      <td>1.67</td>\n",
       "      <td>0.6</td>\n",
       "      <td>1.67</td>\n",
       "    </tr>\n",
       "    <tr>\n",
       "      <th>3</th>\n",
       "      <td>Borodino</td>\n",
       "      <td>1812</td>\n",
       "      <td>FRENCH</td>\n",
       "      <td>130000</td>\n",
       "      <td>Russians</td>\n",
       "      <td>120000</td>\n",
       "      <td>1.08</td>\n",
       "      <td>1.08</td>\n",
       "      <td>1.08</td>\n",
       "    </tr>\n",
       "    <tr>\n",
       "      <th>4</th>\n",
       "      <td>Dresden</td>\n",
       "      <td>1813</td>\n",
       "      <td>FRENCH</td>\n",
       "      <td>100000</td>\n",
       "      <td>Allies</td>\n",
       "      <td>150000</td>\n",
       "      <td>0.67</td>\n",
       "      <td>0.67</td>\n",
       "      <td>0.67</td>\n",
       "    </tr>\n",
       "    <tr>\n",
       "      <th>5</th>\n",
       "      <td>Leipzig</td>\n",
       "      <td>1813</td>\n",
       "      <td>ALLIES</td>\n",
       "      <td>300000</td>\n",
       "      <td>French</td>\n",
       "      <td>180000</td>\n",
       "      <td>1.67</td>\n",
       "      <td>1.67</td>\n",
       "      <td>1.67</td>\n",
       "    </tr>\n",
       "  </tbody>\n",
       "</table>\n",
       "</div>"
      ],
      "text/plain": [
       "       Battle  Date  Attacker*  Strength_Att Defender*  Strength_Def   A/D  \\\n",
       "1  Austerlitz  1805     FRENCH         75000    Allies         89000  0.84   \n",
       "2   Auerstadt  1806  Prussians         50000    FRENCH         30000  1.67   \n",
       "3    Borodino  1812     FRENCH        130000  Russians        120000  1.08   \n",
       "4     Dresden  1813     FRENCH        100000    Allies        150000  0.67   \n",
       "5     Leipzig  1813     ALLIES        300000    French        180000  1.67   \n",
       "\n",
       "    V/L  Att_to_Def  \n",
       "1  0.84        0.84  \n",
       "2   0.6        1.67  \n",
       "3  1.08        1.08  \n",
       "4  0.67        0.67  \n",
       "5  1.67        1.67  "
      ]
     },
     "execution_count": 195,
     "metadata": {},
     "output_type": "execute_result"
    }
   ],
   "source": [
    "df.head()"
   ]
  },
  {
   "cell_type": "code",
   "execution_count": 202,
   "metadata": {},
   "outputs": [
    {
     "data": {
      "text/plain": [
       "1.224744871391589"
      ]
     },
     "execution_count": 202,
     "metadata": {},
     "output_type": "execute_result"
    }
   ],
   "source": [
    "import math\n",
    "math.sqrt(1.5)"
   ]
  },
  {
   "cell_type": "code",
   "execution_count": null,
   "metadata": {},
   "outputs": [],
   "source": []
  }
 ],
 "metadata": {
  "kernelspec": {
   "display_name": "Python 3",
   "language": "python",
   "name": "python3"
  },
  "language_info": {
   "codemirror_mode": {
    "name": "ipython",
    "version": 3
   },
   "file_extension": ".py",
   "mimetype": "text/x-python",
   "name": "python",
   "nbconvert_exporter": "python",
   "pygments_lexer": "ipython3",
   "version": "3.7.6"
  }
 },
 "nbformat": 4,
 "nbformat_minor": 4
}
