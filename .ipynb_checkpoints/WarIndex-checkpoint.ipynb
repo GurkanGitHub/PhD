{
 "cells": [
  {
   "cell_type": "code",
   "execution_count": 1,
   "metadata": {},
   "outputs": [],
   "source": [
    "import pandas as pd"
   ]
  },
  {
   "cell_type": "code",
   "execution_count": 22,
   "metadata": {},
   "outputs": [],
   "source": [
    "df = pd.read_excel(\"D:/github/PhD/war_index.xlsx\", sheet_name=\"BC\" )"
   ]
  },
  {
   "cell_type": "code",
   "execution_count": 23,
   "metadata": {},
   "outputs": [
    {
     "data": {
      "text/html": [
       "<div>\n",
       "<style scoped>\n",
       "    .dataframe tbody tr th:only-of-type {\n",
       "        vertical-align: middle;\n",
       "    }\n",
       "\n",
       "    .dataframe tbody tr th {\n",
       "        vertical-align: top;\n",
       "    }\n",
       "\n",
       "    .dataframe thead th {\n",
       "        text-align: right;\n",
       "    }\n",
       "</style>\n",
       "<table border=\"1\" class=\"dataframe\">\n",
       "  <thead>\n",
       "    <tr style=\"text-align: right;\">\n",
       "      <th></th>\n",
       "      <th>Battle</th>\n",
       "      <th>date</th>\n",
       "      <th>place</th>\n",
       "      <th>duration</th>\n",
       "      <th>sideA</th>\n",
       "      <th>PostureA</th>\n",
       "      <th>sideB</th>\n",
       "      <th>PostureB</th>\n",
       "      <th>CommanderA</th>\n",
       "      <th>CommanderB</th>\n",
       "      <th>...</th>\n",
       "      <th>CapturedManB</th>\n",
       "      <th>MissingA</th>\n",
       "      <th>MissingB</th>\n",
       "      <th>TotalCasultiesA</th>\n",
       "      <th>TotalCasultiesB</th>\n",
       "      <th>Unnamed: 28</th>\n",
       "      <th>Victor</th>\n",
       "      <th>Source</th>\n",
       "      <th>Link</th>\n",
       "      <th>Notes</th>\n",
       "    </tr>\n",
       "  </thead>\n",
       "  <tbody>\n",
       "    <tr>\n",
       "      <th>0</th>\n",
       "      <td>Battle of Marathon</td>\n",
       "      <td>490 bc</td>\n",
       "      <td>Marathon bay</td>\n",
       "      <td>NaN</td>\n",
       "      <td>Greek, Plataea</td>\n",
       "      <td>Defence</td>\n",
       "      <td>Persian</td>\n",
       "      <td>Attack</td>\n",
       "      <td>Miltaetis</td>\n",
       "      <td>Datis</td>\n",
       "      <td>...</td>\n",
       "      <td>NaN</td>\n",
       "      <td>NaN</td>\n",
       "      <td>NaN</td>\n",
       "      <td>NaN</td>\n",
       "      <td>NaN</td>\n",
       "      <td>NaN</td>\n",
       "      <td>Greek, Plataea</td>\n",
       "      <td>Wikipedia</td>\n",
       "      <td>https://en.wikipedia.org/wiki/Battle_of_Marathon</td>\n",
       "      <td>NaN</td>\n",
       "    </tr>\n",
       "  </tbody>\n",
       "</table>\n",
       "<p>1 rows × 33 columns</p>\n",
       "</div>"
      ],
      "text/plain": [
       "               Battle    date         place  duration           sideA  \\\n",
       "0  Battle of Marathon  490 bc  Marathon bay       NaN  Greek, Plataea   \n",
       "\n",
       "  PostureA    sideB PostureB CommanderA CommanderB  ... CapturedManB  \\\n",
       "0  Defence  Persian   Attack  Miltaetis      Datis  ...          NaN   \n",
       "\n",
       "   MissingA  MissingB  TotalCasultiesA  TotalCasultiesB  Unnamed: 28  \\\n",
       "0       NaN       NaN              NaN              NaN          NaN   \n",
       "\n",
       "           Victor     Source  \\\n",
       "0  Greek, Plataea  Wikipedia   \n",
       "\n",
       "                                               Link  Notes  \n",
       "0  https://en.wikipedia.org/wiki/Battle_of_Marathon    NaN  \n",
       "\n",
       "[1 rows x 33 columns]"
      ]
     },
     "execution_count": 23,
     "metadata": {},
     "output_type": "execute_result"
    }
   ],
   "source": [
    "df.head()"
   ]
  },
  {
   "cell_type": "code",
   "execution_count": 24,
   "metadata": {},
   "outputs": [
    {
     "data": {
      "text/plain": [
       "Battle                                           Battle of Marathon\n",
       "date                                                         490 bc\n",
       "place                                                  Marathon bay\n",
       "duration                                                        NaN\n",
       "sideA                                                Greek, Plataea\n",
       "PostureA                                                    Defence\n",
       "sideB                                                       Persian\n",
       "PostureB                                                     Attack\n",
       "CommanderA                                                Miltaetis\n",
       "CommanderB                                                    Datis\n",
       "InfantryA                                                10000+1000\n",
       "infantryB                                                     25000\n",
       "CavalryA                                                          0\n",
       "CavalryB                                                       1000\n",
       "TriremeA                                                          0\n",
       "TriremeB                                                        600\n",
       "KilledA                                                      192+11\n",
       "KilledB                                                        6400\n",
       "DestroyedShipA                                                    0\n",
       "DestroyedShipB                                                    7\n",
       "WoundedA                                                        NaN\n",
       "WoundedB                                                        NaN\n",
       "CapturedManA                                                    NaN\n",
       "CapturedManB                                                    NaN\n",
       "MissingA                                                        NaN\n",
       "MissingB                                                        NaN\n",
       "TotalCasultiesA                                                 NaN\n",
       "TotalCasultiesB                                                 NaN\n",
       "Unnamed: 28                                                     NaN\n",
       "Victor                                               Greek, Plataea\n",
       "Source                                                    Wikipedia\n",
       "Link               https://en.wikipedia.org/wiki/Battle_of_Marathon\n",
       "Notes                                                           NaN\n",
       "Name: 0, dtype: object"
      ]
     },
     "execution_count": 24,
     "metadata": {},
     "output_type": "execute_result"
    }
   ],
   "source": [
    "df.loc[0, :]"
   ]
  },
  {
   "cell_type": "code",
   "execution_count": 35,
   "metadata": {},
   "outputs": [],
   "source": [
    "df = pd.read_excel(\"D:/github/PhD/war_index.xlsx\", sheet_name=\"PreNap\" )"
   ]
  },
  {
   "cell_type": "code",
   "execution_count": 36,
   "metadata": {},
   "outputs": [
    {
     "data": {
      "text/plain": [
       "Campaign                                          Seven Years War\n",
       "Part of                                          3rd Silesian war\n",
       "Battle                                          Battle of Leuthen\n",
       "date                                              5 December 1757\n",
       "place                                                     Silesia\n",
       "duration                                                      NaN\n",
       "sideA                                                     Prussia\n",
       "Commander                                            Frederick II\n",
       "Posture                                                    Attack\n",
       "sideB                                                     Austria\n",
       "Commander.1                Alexander of Lorraine, Joseph von Daun\n",
       "Posture.1                                                 Defence\n",
       "InfantryA                                                   33000\n",
       "InfantryB                                                   66000\n",
       "CavalryA                                                      NaN\n",
       "CavalryB                                                      NaN\n",
       "GunsA                                                           0\n",
       "GunsB                                                         250\n",
       "KilledManA                                                   1141\n",
       "KilledManB                                                   3000\n",
       "DestroyedShipA                                                NaN\n",
       "DestroyedShipB                                                NaN\n",
       "WoundedA                                                     5118\n",
       "WoundedB                                                     7000\n",
       "CapturedManA                                                   85\n",
       "CapturedManB                                                12000\n",
       "CapturedGunA                                                    0\n",
       "CapturedGunB                                                  116\n",
       "CapturedShipA                                                 NaN\n",
       "MissingA                                                      NaN\n",
       "TotalCasA                                                    6344\n",
       "TotalCasB                                                   22000\n",
       "Victor                                                    Prussia\n",
       "Source                                                  Wikipedia\n",
       "Link              https://en.wikipedia.org/wiki/Battle_of_Leuthen\n",
       "Notes                                                         NaN\n",
       "Name: 1, dtype: object"
      ]
     },
     "execution_count": 36,
     "metadata": {},
     "output_type": "execute_result"
    }
   ],
   "source": [
    "df.loc[1, :]"
   ]
  },
  {
   "cell_type": "code",
   "execution_count": 37,
   "metadata": {},
   "outputs": [
    {
     "data": {
      "text/plain": [
       "Campaign                                           Seven Years War\n",
       "Part of                                           3rd Silesian war\n",
       "Battle                                          Battle of Rossbach\n",
       "date                                               5 November 1757\n",
       "place                                             Rossbach, Saxony\n",
       "duration                                                    90 min\n",
       "sideA                                                      Prussia\n",
       "Commander                                             Frederick II\n",
       "Posture                                                     Attack\n",
       "sideB                                            France, Austrian \n",
       "Commander.1                        Charles de Rohan, Prince Joseph\n",
       "Posture.1                                                      NaN\n",
       "InfantryA                                                    22000\n",
       "InfantryB                                                    41110\n",
       "CavalryA                                                       NaN\n",
       "CavalryB                                                       NaN\n",
       "GunsA                                                           79\n",
       "GunsB                                                          114\n",
       "KilledManA                                                     169\n",
       "KilledManB                                                    5000\n",
       "DestroyedShipA                                                 NaN\n",
       "DestroyedShipB                                                 NaN\n",
       "WoundedA                                                       379\n",
       "WoundedB                                                       NaN\n",
       "CapturedManA                                                   NaN\n",
       "CapturedManB                                                  5000\n",
       "CapturedGunA                                                   NaN\n",
       "CapturedGunB                                                   NaN\n",
       "CapturedShipA                                                  NaN\n",
       "MissingA                                                       NaN\n",
       "TotalCasA                                                      NaN\n",
       "TotalCasB                                                      NaN\n",
       "Victor                                                     Prussia\n",
       "Source                                                   Wikipedia\n",
       "Link              https://en.wikipedia.org/wiki/Battle_of_Rossbach\n",
       "Notes                                                          NaN\n",
       "Name: 0, dtype: object"
      ]
     },
     "execution_count": 37,
     "metadata": {},
     "output_type": "execute_result"
    }
   ],
   "source": [
    "df.loc[0, :]"
   ]
  },
  {
   "cell_type": "code",
   "execution_count": null,
   "metadata": {},
   "outputs": [],
   "source": []
  }
 ],
 "metadata": {
  "kernelspec": {
   "display_name": "Python 3",
   "language": "python",
   "name": "python3"
  },
  "language_info": {
   "codemirror_mode": {
    "name": "ipython",
    "version": 3
   },
   "file_extension": ".py",
   "mimetype": "text/x-python",
   "name": "python",
   "nbconvert_exporter": "python",
   "pygments_lexer": "ipython3",
   "version": "3.7.6"
  }
 },
 "nbformat": 4,
 "nbformat_minor": 4
}
